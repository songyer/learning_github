{
 "cells": [
  {
   "cell_type": "markdown",
   "metadata": {},
   "source": [
    "$$\n",
    "z_{i} = {w_0}{x_0} + {w_1}{x_1} + \\cdots + {w_i}{x_i} = {W^T}X \\tag{3a}\n",
    "$$"
   ]
  },
  {
   "cell_type": "markdown",
   "metadata": {},
   "source": [
    "$$\n",
    "f(z_{i})=\\frac{1}{1+e^{-z_{i}}} \\tag{3b}\n",
    "$$"
   ]
  },
  {
   "cell_type": "markdown",
   "metadata": {},
   "source": [
    "$$\n",
    "h_{W}(X) = f({W^T}X)=\\frac{1}{1+e^{W^TX}}\n",
    "\\tag{4}\n",
    "$$"
   ]
  },
  {
   "cell_type": "markdown",
   "metadata": {},
   "source": [
    "$$\n",
    "J(W) =- \\frac{1}{m} \\sum_{i=1}^m \\left [  y_i \\log (h_{W}(X_i)) + (1-y_i) \\log(1-h_{W}(X_i))  \\right ]\\tag{5}\n",
    "$$"
   ]
  },
  {
   "cell_type": "markdown",
   "metadata": {},
   "source": [
    "现在对式（5）进行化简，先来看 $\\log (h_{W}(X_i))$，结合式（4）得："
   ]
  },
  {
   "cell_type": "markdown",
   "metadata": {},
   "source": [
    "$$\n",
    "\\begin{align}\n",
    "    \\log (h_{W}(X_i) & = \\log(f({W^T}X_i)) \\\\\n",
    "    & = \\log(\\frac{1}{1+e^{-W^TX_i}})\\\\\n",
    "    & = -\\log(1+e^{-W^TX_i}) \\tag{6}\\\\ \n",
    "\\end{align}\n",
    "$$"
   ]
  },
  {
   "cell_type": "markdown",
   "metadata": {},
   "source": [
    "同理，来看 $ \\log(1-h_{W}(X_i))$:"
   ]
  },
  {
   "cell_type": "markdown",
   "metadata": {},
   "source": [
    "$$\n",
    "\\begin{align}\n",
    "    \\log(1-h_{W}(X_i)) & = \\log(1-\\frac{1}{1+e^{-W^TX_i}})\\\\\n",
    "    & = \\log(\\frac{e^{-W^TX_i}}{1+e^{-W^TX_i}})\\\\\n",
    "    & = \\log(e^{-W^TX_i})-\\log(1+e^{-W^TX_i})\\\\\n",
    "    & = -W^TX_i-\\log(1+e^{-W^TX_i}) \\tag 7\\\\\n",
    "\\end{align}\n",
    "$$"
   ]
  },
  {
   "cell_type": "markdown",
   "metadata": {},
   "source": [
    "将式（6）和式（7）带入式（5）并化简得："
   ]
  },
  {
   "cell_type": "markdown",
   "metadata": {},
   "source": [
    "$$\n",
    "\\begin{align}\n",
    "    J(W) & = -\\frac{1}{m} \\sum_{i=1}^m \\left [ y_i (-\\log(1+e^{-W^TX_i})) + (1-y_i)(-W^TX_i-\\log(1+e^{-W^TX_i}))\\right ] \\\\\n",
    "    & = -\\frac{1}{m} \\sum_{i=1}^m \\left [ - y_i\\log(1+e^{-W^TX_i}) - W^TX_i-\\log(1+e^{-W^TX_i})+W^TX_iy_i+y_i\\log(1+e^{-W^TX_i}))\\right ]\\\\\n",
    "    & = -\\frac{1}{m} \\sum_{i=1}^m \\left [- W^TX_i-\\log(1+e^{-W^TX_i})+W^TX_iy_i \\right ]\\\\\n",
    "    & = -\\frac{1}{m} \\sum_{i=1}^m \\left [-\\log(e^{W^TX_i})-\\log(1+e^{-W^TX_i})+W^TX_iy_i \\right ]\\\\\n",
    "    & = -\\frac{1}{m} \\sum_{i=1}^m \\left [-\\log(e^{W^TX_i}(1+e^{-W^TX_i}))+W^TX_iy_i \\right ]\\\\\n",
    "    & = -\\frac{1}{m} \\sum_{i=1}^m \\left [-\\log(e^{W^TX_i}+1)+W^TX_iy_i \\right ] \\tag 8\\\\\n",
    "\\end{align}\n",
    "$$"
   ]
  },
  {
   "cell_type": "markdown",
   "metadata": {},
   "source": [
    "现在对式（8）求导得："
   ]
  },
  {
   "cell_type": "markdown",
   "metadata": {},
   "source": [
    "$$\n",
    "\\begin{align}\n",
    "    \\frac{\\partial{J}}{\\partial{W}} & =  -\\frac{1}{m} \\sum_{i=1}^m \\left [ - \\frac{X_ie^{W^TX_i}}{e^{W^TX_i}+1}+X_iy_i\\right ]\\\\\n",
    "    & = -\\frac{1}{m} \\sum_{i=1}^m \\left [ - \\frac{e^{W^TX_i}}{e^{W^TX_i}+1}+y_i\\right ]X_i\\\\\n",
    "    & = -\\frac{1}{m} \\sum_{i=1}^m \\left [ - \\frac{e^{-W^TX_i}e^{W^TX_i}}{e^{-W^TX_i}(e^{W^TX_i}+1)}+y_i\\right ]X_i\\\\\n",
    "    & = -\\frac{1}{m} \\sum_{i=1}^m \\left [ - \\frac{1}{1+e^{-W^TX_i}}+y_i\\right ]X_i\\tag 9\\\\\n",
    "\\end{align}\n",
    "$$"
   ]
  },
  {
   "cell_type": "markdown",
   "metadata": {},
   "source": [
    "将式（4）带入式（9）得："
   ]
  },
  {
   "cell_type": "markdown",
   "metadata": {},
   "source": [
    "$$\n",
    "\\frac{\\partial{J}}{\\partial{W}}=  -\\frac{1}{m} \\sum_{i=1}^m \\left [ - h_W(X_i)+y_i\\right ]X_i \\tag {10}\n",
    "$$"
   ]
  },
  {
   "cell_type": "markdown",
   "metadata": {},
   "source": [
    "用向量的形式表达得："
   ]
  },
  {
   "cell_type": "markdown",
   "metadata": {},
   "source": [
    "$$\n",
    "\\frac{\\partial{J}}{\\partial{W}} = \\frac{1}{m}X^T(h_{W}(X)-y) \\tag{11}\n",
    "$$"
   ]
  }
 ],
 "metadata": {
  "anaconda-cloud": {},
  "kernelspec": {
   "display_name": "Python [default]",
   "language": "python",
   "name": "python3"
  },
  "language_info": {
   "codemirror_mode": {
    "name": "ipython",
    "version": 3
   },
   "file_extension": ".py",
   "mimetype": "text/x-python",
   "name": "python",
   "nbconvert_exporter": "python",
   "pygments_lexer": "ipython3",
   "version": "3.5.6"
  }
 },
 "nbformat": 4,
 "nbformat_minor": 2
}
